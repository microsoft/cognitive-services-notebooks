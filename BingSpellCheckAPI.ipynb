{
 "cells": [
  {
   "cell_type": "markdown",
   "metadata": {},
   "source": [
    "# Call and response: your first Bing Spell Check query in Python\n",
    "\n",
    "The Spell Check API lets you check a text string for spelling and grammar errors.\n",
    "\n",
    "This walkthrough demonstrates a simple example of calling into the Bing Spell Check API and post-processing the resulting JSON object. For more information, see [Bing Spell Check documentation](https://docs.microsoft.com/en-us/rest/api/cognitiveservices/bing-spell-check-api-v7-reference).\n",
    "\n",
    "You can run this example as a Jupyter notebook on [MyBinder](https://mybinder.org) by clicking on the launch Binder badge: \n",
    "\n",
    "[![Binder](https://mybinder.org/badge.svg)](https://mybinder.org/v2/gh/Microsoft/cognitive-services-notebooks/master?filepath=BingSpellCheckAPI.ipynb)\n",
    "\n",
    "## Prerequisites\n",
    "\n",
    "You must have a [Cognitive Services API account](https://docs.microsoft.com/azure/cognitive-services/cognitive-services-apis-create-account) with **Bing Spell Check API v7**. The [free trial](https://azure.microsoft.com/de-de/try/cognitive-services/my-apis/?api=spellcheck-api) is sufficient for this quickstart. You need the access key provided when you activate your free trial, or you may use a paid subscription key from your Azure dashboard.\n",
    "\n",
    "## Running the walkthrough\n",
    "To continue with the walkthrough, set `subscription_key` to your API key for the Bing API service."
   ]
  },
  {
   "cell_type": "code",
   "execution_count": 1,
   "metadata": {},
   "outputs": [],
   "source": [
    "subscription_key = 'KEY HERE'\n",
    "assert subscription_key"
   ]
  },
  {
   "cell_type": "markdown",
   "metadata": {},
   "source": [
    "Next, verify that the `spellcheck_url` endpoint is correct. \n",
    "\n",
    "To check the spelling and grammar of a block of text, send a GET or POST request to"
   ]
  },
  {
   "cell_type": "code",
   "execution_count": 2,
   "metadata": {},
   "outputs": [],
   "source": [
    "spellcheck_url = \"https://api.cognitive.microsoft.com/bing/v7.0/SpellCheck\""
   ]
  },
  {
   "cell_type": "markdown",
   "metadata": {},
   "source": [
    "The request must use the HTTPS protocol.\n",
    "\n",
    "Because of the query string length limit, you typically use a POST request unless you're checking only short strings."
   ]
  },
  {
   "cell_type": "markdown",
   "metadata": {},
   "source": [
    "Set `text` to a text you want to be spell checked."
   ]
  },
  {
   "cell_type": "code",
   "execution_count": 3,
   "metadata": {},
   "outputs": [],
   "source": [
    "text = \"This iss a test text to chekc for spelling and grammar issues.\""
   ]
  },
  {
   "cell_type": "markdown",
   "metadata": {},
   "source": [
    "Besides the text we'll define the `market` and a `mode`.\n",
    "`market` is the country where the user is making the request from. However, it could be a different country if the user is not located in a country where Bing delivers results.\n",
    "\n",
    "`mode` defines the type of spelling and grammar checks performed. The following are the possible values (the values are case insensitive).\n",
    "\n",
    "- proof (provides the most comprehensive checks, adding capitalization, basic punctuation, and other features to aid document creation. However it's only available in English (US), Spanish (ES) and Portuguese (BR))\n",
    "- spell (s more aggressive in order to return better search results. The Spell mode finds most spelling mistakes but doesn't find some of the grammar errors that Proof catches, for example, capitalization and repeated words.)"
   ]
  },
  {
   "cell_type": "code",
   "execution_count": 4,
   "metadata": {},
   "outputs": [],
   "source": [
    "market = 'en-us'\n",
    "mode = 'proof'\n",
    "\n",
    "params = 'mkt={}&mode={}'.format(market, mode)"
   ]
  },
  {
   "cell_type": "markdown",
   "metadata": {},
   "source": [
    "The following block uses the `requests` library in Python to call out to the Bing Spell Check APIs and return the results as a JSON object.\n",
    "We pass in the API key via the `headers` dictionary and the `text` as url encoded formdata. \n",
    "\n",
    "To see the full list of supported Header and Formdata Parameters, check the [REST API](https://docs.microsoft.com/en-us/rest/api/cognitiveservices/bing-spell-check-api-v7-reference) documentation."
   ]
  },
  {
   "cell_type": "code",
   "execution_count": 5,
   "metadata": {},
   "outputs": [
    {
     "name": "stdout",
     "output_type": "stream",
     "text": [
      "{'_type': 'SpellCheck',\n",
      " 'flaggedTokens': [{'offset': 5,\n",
      "                    'suggestions': [{'score': 0.738327955377896,\n",
      "                                     'suggestion': 'is'}],\n",
      "                    'token': 'iss',\n",
      "                    'type': 'UnknownToken'},\n",
      "                   {'offset': 24,\n",
      "                    'suggestions': [{'score': 0.87740262307201,\n",
      "                                     'suggestion': 'check'}],\n",
      "                    'token': 'chekc',\n",
      "                    'type': 'UnknownToken'}]}\n"
     ]
    }
   ],
   "source": [
    "import requests, urllib.parse\n",
    "from pprint import pprint\n",
    "\n",
    "headers = {'Ocp-Apim-Subscription-Key': subscription_key, 'Content-Type': 'application/x-www-form-urlencoded'}\n",
    "body  = urllib.parse.urlencode ({\"text\": text})\n",
    "response = requests.post(spellcheck_url + '?' + params, headers=headers, data=body)\n",
    "response.raise_for_status()\n",
    "spellcheck_results = response.json()\n",
    "pprint(spellcheck_results)"
   ]
  },
  {
   "cell_type": "markdown",
   "metadata": {},
   "source": [
    "## Next Steps\n",
    "https://docs.microsoft.com/en-us/azure/cognitive-services/bing-spell-check/tutorials/spellcheck"
   ]
  }
 ],
 "metadata": {
  "kernelspec": {
   "display_name": "Python 3",
   "language": "python",
   "name": "python3"
  },
  "language_info": {
   "codemirror_mode": {
    "name": "ipython",
    "version": 3
   },
   "file_extension": ".py",
   "mimetype": "text/x-python",
   "name": "python",
   "nbconvert_exporter": "python",
   "pygments_lexer": "ipython3",
   "version": "3.6.3"
  }
 },
 "nbformat": 4,
 "nbformat_minor": 2
}
